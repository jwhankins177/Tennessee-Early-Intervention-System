{
 "cells": [
  {
   "cell_type": "markdown",
   "id": "d2a7dfdc",
   "metadata": {},
   "source": [
    "# Difference in OC scores based off of eligibility category"
   ]
  },
  {
   "cell_type": "code",
   "execution_count": null,
   "id": "eeea64ff",
   "metadata": {},
   "outputs": [],
   "source": [
    "import pandas as pd\n",
    "import numpy as np\n",
    "import matplotlib.pyplot as plt\n",
    "import seaborn as sns\n",
    "%matplotlib inline"
   ]
  },
  {
   "cell_type": "code",
   "execution_count": null,
   "id": "1f18cea8",
   "metadata": {
    "scrolled": false
   },
   "outputs": [],
   "source": [
    "eco = pd.read_excel(\"../data/TEIS-NSS Project Data 10-2022.xlsx\",sheet_name=('ECO with Exit21-22'))\n",
    "elig = pd.read_excel(\"../data/TEIS-NSS Project Data 10-2022.xlsx\",sheet_name=('Elig Timeline Rpt 2018-2022'))"
   ]
  },
  {
   "cell_type": "markdown",
   "id": "e29e58f6",
   "metadata": {},
   "source": [
    "### Eco clean"
   ]
  },
  {
   "cell_type": "code",
   "execution_count": null,
   "id": "6b01c9b1",
   "metadata": {},
   "outputs": [],
   "source": [
    "eco.info()"
   ]
  },
  {
   "cell_type": "code",
   "execution_count": null,
   "id": "69fb801c",
   "metadata": {},
   "outputs": [],
   "source": [
    "eco1 = eco[['CHILD_ID', 'OC1 - a','OC1 - b', 'OC1 - c', 'OC1 - d', 'OC1 - e',\\\n",
    "        'OC3 - a','OC3 - b', 'OC3 - c', 'OC3 - d', 'OC3 - e']]"
   ]
  },
  {
   "cell_type": "code",
   "execution_count": null,
   "id": "ae4e94d0",
   "metadata": {},
   "outputs": [],
   "source": [
    "eco1 = eco1.rename(columns={'CHILD_ID':'child_id'})"
   ]
  },
  {
   "cell_type": "code",
   "execution_count": null,
   "id": "f33e4a81",
   "metadata": {},
   "outputs": [],
   "source": [
    "eco1['OC1 - a'].isnull().count()"
   ]
  },
  {
   "cell_type": "code",
   "execution_count": null,
   "id": "9945c15c",
   "metadata": {},
   "outputs": [],
   "source": [
    "eco1 = eco1.dropna(subset=['OC1 - a','OC1 - b','OC1 - c','OC1 - d','OC1 - e',\\\n",
    "                           'OC3 - a','OC3 - b','OC3 - c','OC3 - d','OC3 - e'], how = 'all')"
   ]
  },
  {
   "cell_type": "code",
   "execution_count": null,
   "id": "9683094a",
   "metadata": {
    "scrolled": true
   },
   "outputs": [],
   "source": [
    "eco1.info()"
   ]
  },
  {
   "cell_type": "markdown",
   "id": "38a7e9b0",
   "metadata": {},
   "source": [
    "#### Add new colums to calculate totals per score and avg score. Make sure it matches the excel numbers."
   ]
  },
  {
   "cell_type": "code",
   "execution_count": null,
   "id": "a6183154",
   "metadata": {},
   "outputs": [],
   "source": [
    "\n",
    "eco1['oc1b_score'] = eco1['OC1 - b'].count()\n",
    "eco1['oc1b_avg'] = \"{:0.2%}\".format(eco1['OC1 - b'].count()/eco1['child_id'].count())\n",
    "eco1['oc1c_score'] = eco1['OC1 - c'].count()\n",
    "eco1['oc1c_avg'] = \"{:0.2%}\".format(eco1['OC1 - c'].count()/eco1['child_id'].count())\n",
    "eco1['oc1d_score'] = eco1['OC1 - d'].count()\n",
    "eco1['oc1d_avg'] = \"{:0.2%}\".format(eco1['OC1 - d'].count()/eco1['child_id'].count())\n",
    "eco1['oc1e_score'] = eco1['OC1 - e'].count()\n",
    "eco1['oc1e_avg'] = \"{:0.2%}\".format(eco1['OC1 - e'].count()/eco1['child_id'].count())\n",
    "\n",
    "eco1['oc3a_score'] = eco1['OC3 - a'].count()\n",
    "eco1['oc3a_avg'] = \"{:0.2%}\".format(eco1['OC3 - a'].count()/eco1['child_id'].count())\n",
    "eco1['oc3b_score'] = eco1['OC3 - b'].count()\n",
    "eco1['oc3b_avg'] = \"{:0.2%}\".format(eco1['OC3 - b'].count()/eco1['child_id'].count())\n",
    "eco1['oc3c_score'] = eco1['OC3 - c'].count\n",
    "eco1['oc3c_avg'] = \"{:0.2%}\".format(eco1['OC3 - c'].count()/eco1['child_id'].count())\n",
    "eco1['oc3d_score'] = eco1['OC3 - d'].count()\n",
    "eco1['oc3d_avg'] = \"{:0.2%}\".format(eco1['OC3 - d'].count()/eco1['child_id'].count())\n",
    "eco1['oc3e_score'] = eco1['OC3 - e'].count()\n",
    "eco1['oc3e_avg'] = \"{:0.2%}\".format(eco1['OC3 - e'].count()/eco1['child_id'].count())"
   ]
  },
  {
   "cell_type": "code",
   "execution_count": null,
   "id": "d11943cc",
   "metadata": {
    "scrolled": false
   },
   "outputs": [],
   "source": [
    "eco_calc = eco1[['child_id','oc1a_score','oc1a_avg','oc1b_score','oc1b_avg','oc1c_score','oc1c_avg',\\\n",
    "                 'oc1d_score','oc1d_avg','oc1e_score','oc1e_avg','oc3a_score','oc3a_avg','oc3b_score','oc3b_avg',\\\n",
    "                 'oc3c_score','oc3c_avg','oc3d_score','oc3d_avg','oc3e_score','oc3e_avg']]\n",
    "#eco_calc.info()\n",
    "eco_calc.head(1)"
   ]
  },
  {
   "cell_type": "markdown",
   "id": "edd64032",
   "metadata": {},
   "source": [
    "### Clean elig."
   ]
  },
  {
   "cell_type": "code",
   "execution_count": null,
   "id": "b67a0805",
   "metadata": {},
   "outputs": [],
   "source": [
    "elig.info()"
   ]
  },
  {
   "cell_type": "code",
   "execution_count": null,
   "id": "2bd2c196",
   "metadata": {},
   "outputs": [],
   "source": [
    "elig1 = elig[['Child ID', 'Init. Elig. Category']]"
   ]
  },
  {
   "cell_type": "code",
   "execution_count": null,
   "id": "bf0dae69",
   "metadata": {
    "scrolled": true
   },
   "outputs": [],
   "source": [
    "elig1 = elig1.rename(columns={'Child ID':'child_id', 'Init. Elig. Category':'int_cat'})\n",
    "elig1.info()"
   ]
  },
  {
   "cell_type": "markdown",
   "id": "aefc3329",
   "metadata": {},
   "source": [
    "##### Merge"
   ]
  },
  {
   "cell_type": "code",
   "execution_count": null,
   "id": "c43e9b38",
   "metadata": {
    "scrolled": true
   },
   "outputs": [],
   "source": [
    "elig1.info()\n",
    "eco1.info()"
   ]
  },
  {
   "cell_type": "code",
   "execution_count": null,
   "id": "7b698613",
   "metadata": {},
   "outputs": [],
   "source": [
    "elig_eco = pd.merge(elig1, eco1, how='inner', on='child_id')"
   ]
  },
  {
   "cell_type": "code",
   "execution_count": null,
   "id": "ddbd1040",
   "metadata": {
    "scrolled": true
   },
   "outputs": [],
   "source": [
    "elig_eco.info()"
   ]
  },
  {
   "cell_type": "code",
   "execution_count": null,
   "id": "4da00897",
   "metadata": {},
   "outputs": [],
   "source": [
    "elig_eco_avg = elig_eco.iloc[:,[1,13,15,17,19,21,23,25,27,29,31]]\n",
    "elig_eco_avg"
   ]
  },
  {
   "cell_type": "code",
   "execution_count": null,
   "id": "eda4d495",
   "metadata": {},
   "outputs": [],
   "source": [
    "elig_eco1 = elig_eco.iloc[:,[1,2,3,4,5,6,7,8,9,10,11]]"
   ]
  },
  {
   "cell_type": "code",
   "execution_count": null,
   "id": "33fc0695",
   "metadata": {},
   "outputs": [],
   "source": [
    "elig_eco1.info()"
   ]
  },
  {
   "cell_type": "code",
   "execution_count": null,
   "id": "20c8404f",
   "metadata": {},
   "outputs": [],
   "source": [
    "elig_eco1.head(20)"
   ]
  },
  {
   "cell_type": "markdown",
   "id": "0819a2b5",
   "metadata": {},
   "source": [
    "### Group By int_cat "
   ]
  },
  {
   "cell_type": "code",
   "execution_count": null,
   "id": "b8ba63de",
   "metadata": {},
   "outputs": [],
   "source": [
    "#elig_eco2 = elig_eco1.groupby('int_cat')\n",
    "#\n",
    "elig_eco2 = elig_eco1.groupby(by='int_cat',as_index=False, sort=True, dropna=False).sum()"
   ]
  },
  {
   "cell_type": "code",
   "execution_count": null,
   "id": "f13cfbac",
   "metadata": {
    "scrolled": true
   },
   "outputs": [],
   "source": [
    "elig_eco2.head(20)"
   ]
  },
  {
   "cell_type": "markdown",
   "id": "75aba4a6",
   "metadata": {},
   "source": [
    "### FacetGrid"
   ]
  },
  {
   "cell_type": "code",
   "execution_count": null,
   "id": "65dbe896",
   "metadata": {
    "scrolled": false
   },
   "outputs": [],
   "source": [
    "elig_eco_avg"
   ]
  },
  {
   "cell_type": "code",
   "execution_count": null,
   "id": "3bda790e",
   "metadata": {},
   "outputs": [],
   "source": [
    "elig_eco2 = elig_eco1.groupby(by='int_cat',as_index=False, sort=True, dropna=False).sum()"
   ]
  },
  {
   "cell_type": "code",
   "execution_count": null,
   "id": "e5d2b4bb",
   "metadata": {},
   "outputs": [],
   "source": [
    "dev_ev = elig_eco1[elig_eco1['int_cat'] == 'Developmental Evaluation']"
   ]
  },
  {
   "cell_type": "code",
   "execution_count": null,
   "id": "9e7f5559",
   "metadata": {
    "scrolled": false
   },
   "outputs": [],
   "source": [
    "dev_ev"
   ]
  },
  {
   "cell_type": "code",
   "execution_count": null,
   "id": "b44c21b2",
   "metadata": {},
   "outputs": [],
   "source": [
    "dev_ev_group = dev_ev.groupby(['int_cat'])\n",
    "# n_by_state_gender = df.groupby([\"state\", \"gender\"])[\"last_name\"].count()"
   ]
  },
  {
   "cell_type": "code",
   "execution_count": null,
   "id": "05295e0b",
   "metadata": {},
   "outputs": [],
   "source": [
    "dev_ev_group.head(10)"
   ]
  },
  {
   "cell_type": "code",
   "execution_count": null,
   "id": "e1db24b3",
   "metadata": {},
   "outputs": [],
   "source": [
    "dev_co = elig_eco1[elig_eco1['int_cat'] == 'Diagnosed Condition']"
   ]
  },
  {
   "cell_type": "code",
   "execution_count": null,
   "id": "9041d714",
   "metadata": {},
   "outputs": [],
   "source": [
    "dev_co"
   ]
  },
  {
   "cell_type": "code",
   "execution_count": null,
   "id": "973f366e",
   "metadata": {},
   "outputs": [],
   "source": [
    "both1 = elig_eco1[elig_eco1['int_cat'] == 'Diagnosed Condition, Developmental Evaluation']"
   ]
  },
  {
   "cell_type": "code",
   "execution_count": null,
   "id": "3d99deca",
   "metadata": {},
   "outputs": [],
   "source": [
    "elig_eco2.info()"
   ]
  },
  {
   "cell_type": "code",
   "execution_count": null,
   "id": "867f3d36",
   "metadata": {},
   "outputs": [],
   "source": [
    "elig_eco2.plot.line(x='int_cat', y = 'OC1 - a')"
   ]
  },
  {
   "cell_type": "code",
   "execution_count": null,
   "id": "047aba0d",
   "metadata": {},
   "outputs": [],
   "source": [
    "elig_eco_avg.info()"
   ]
  },
  {
   "cell_type": "code",
   "execution_count": null,
   "id": "c040a851",
   "metadata": {},
   "outputs": [],
   "source": [
    "elig_eco2.info()\n",
    "elig_eco2"
   ]
  },
  {
   "cell_type": "code",
   "execution_count": null,
   "id": "881ecf9a",
   "metadata": {
    "scrolled": false
   },
   "outputs": [],
   "source": [
    "de = elig_eco2[elig_eco2['int_cat'] == 'Developmental Evaluation']\n",
    "# above_35 = titanic[titanic[\"Age\"] > 35]"
   ]
  },
  {
   "cell_type": "code",
   "execution_count": null,
   "id": "85b67701",
   "metadata": {},
   "outputs": [],
   "source": [
    "de"
   ]
  },
  {
   "cell_type": "code",
   "execution_count": null,
   "id": "6d1e3241",
   "metadata": {
    "scrolled": false
   },
   "outputs": [],
   "source": [
    "de.plot.bar()"
   ]
  },
  {
   "cell_type": "code",
   "execution_count": null,
   "id": "21e3c7e5",
   "metadata": {},
   "outputs": [],
   "source": [
    "g = sns.FacetGrid(elig_eco2, col = 'int_cat', height = 8, aspect = .65)\n",
    "g = g.map(sns.barplot, data = elig_eco2)"
   ]
  },
  {
   "cell_type": "code",
   "execution_count": null,
   "id": "8ecd0e73",
   "metadata": {
    "scrolled": true
   },
   "outputs": [],
   "source": [
    "elig_eco2.info()"
   ]
  },
  {
   "cell_type": "code",
   "execution_count": null,
   "id": "9a6c0ebd",
   "metadata": {},
   "outputs": [],
   "source": [
    "sns.pairplot(elig_eco1, kind = 'hist')"
   ]
  },
  {
   "cell_type": "code",
   "execution_count": null,
   "id": "840d4922",
   "metadata": {},
   "outputs": [],
   "source": [
    "elig_eco2.plot.bar(x = 'int_cat')"
   ]
  },
  {
   "cell_type": "code",
   "execution_count": null,
   "id": "3db0ec51",
   "metadata": {},
   "outputs": [],
   "source": [
    "sns.set_theme(style=\"darkgrid\")\n",
    "\n",
    "sns.displot(\n",
    "    df, x=\"int_cat\", col=\"species\", row=\"sex\",\n",
    "    binwidth=3, height=3, facet_kws=dict(margin_titles=True),\n",
    ")"
   ]
  }
 ],
 "metadata": {
  "kernelspec": {
   "display_name": "Python 3 (ipykernel)",
   "language": "python",
   "name": "python3"
  },
  "language_info": {
   "codemirror_mode": {
    "name": "ipython",
    "version": 3
   },
   "file_extension": ".py",
   "mimetype": "text/x-python",
   "name": "python",
   "nbconvert_exporter": "python",
   "pygments_lexer": "ipython3",
   "version": "3.9.7"
  }
 },
 "nbformat": 4,
 "nbformat_minor": 5
}
