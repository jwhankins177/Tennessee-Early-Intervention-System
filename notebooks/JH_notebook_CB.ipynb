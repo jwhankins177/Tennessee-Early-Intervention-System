{
 "cells": [
  {
   "cell_type": "code",
   "execution_count": null,
   "id": "f24c91b9",
   "metadata": {},
   "outputs": [],
   "source": [
    "import pandas as pd\n",
    "import numpy as np\n",
    "import matplotlib.pyplot as plt\n",
    "import seaborn as sns"
   ]
  },
  {
   "cell_type": "code",
   "execution_count": null,
   "id": "b9d8ee30",
   "metadata": {},
   "outputs": [],
   "source": [
    "%matplotlib inline"
   ]
  },
  {
   "cell_type": "code",
   "execution_count": null,
   "id": "c42a973e",
   "metadata": {},
   "outputs": [],
   "source": [
    "eco = pd.read_excel(\"../data/TEIS-NSS Project Data 10-2022.xlsx\",sheet_name=('ECO with Exit21-22'))\n",
    "elig = pd.read_excel(\"../data/TEIS-NSS Project Data 10-2022.xlsx\",sheet_name=('Elig Timeline Rpt 2018-2022'))"
   ]
  },
  {
   "cell_type": "code",
   "execution_count": null,
   "id": "29a6abfa",
   "metadata": {},
   "outputs": [],
   "source": [
    "eco['CHILD_ID']"
   ]
  },
  {
   "cell_type": "code",
   "execution_count": null,
   "id": "ec79fdaa",
   "metadata": {},
   "outputs": [],
   "source": [
    "elig['Child ID']"
   ]
  },
  {
   "cell_type": "code",
   "execution_count": null,
   "id": "88efdc48",
   "metadata": {},
   "outputs": [],
   "source": [
    "eco.head(10)"
   ]
  },
  {
   "cell_type": "code",
   "execution_count": null,
   "id": "9817cd74",
   "metadata": {},
   "outputs": [],
   "source": [
    "eco.tail(10)"
   ]
  },
  {
   "cell_type": "code",
   "execution_count": null,
   "id": "09acbf22",
   "metadata": {},
   "outputs": [],
   "source": [
    "eco.info()"
   ]
  },
  {
   "cell_type": "code",
   "execution_count": null,
   "id": "18c195c9",
   "metadata": {},
   "outputs": [],
   "source": [
    "eco['<Calc> Months in Program'].head()"
   ]
  },
  {
   "cell_type": "code",
   "execution_count": null,
   "id": "b52cad89",
   "metadata": {
    "scrolled": true
   },
   "outputs": [],
   "source": [
    "elig.info()"
   ]
  },
  {
   "cell_type": "code",
   "execution_count": null,
   "id": "b8514266",
   "metadata": {},
   "outputs": [],
   "source": [
    "elig.head()"
   ]
  },
  {
   "cell_type": "code",
   "execution_count": null,
   "id": "b3c90e17",
   "metadata": {},
   "outputs": [],
   "source": [
    "elig.tail()"
   ]
  },
  {
   "cell_type": "markdown",
   "id": "641ee090",
   "metadata": {},
   "source": [
    "### Clean up eco table.\n",
    "With Child ID, District, and day count.\n",
    "Rename columns to child_id, district, day_count"
   ]
  },
  {
   "cell_type": "code",
   "execution_count": null,
   "id": "4edc7184",
   "metadata": {
    "scrolled": false
   },
   "outputs": [],
   "source": [
    "eco_count = eco[[\"CHILD_ID\", \"DISTRICT\", \"<Calc> Months in Program\",\"Ent SOCIAL_SCALE\",\"Ent KNOWLEDGE_SCALE\",\"Ent APPROPRIATE_ACTION_SCALE\",\"Exit SOCIAL_SCALE\",\"Exit KNOWLEDGE_SCALE\",\"Exit APPROPRIATE_ACTION_SCALE\", 'OC1 Data Check']]"
   ]
  },
  {
   "cell_type": "code",
   "execution_count": null,
   "id": "7154da59",
   "metadata": {},
   "outputs": [],
   "source": [
    "eco_count.columns = ['child_id', 'district', 'month_count', 'ent_social', 'ent_knowledge', 'ent_app_action', 'exit_social', 'exit_knowledge', 'exit_app_action', 'oc1']\n",
    "eco_count.info()"
   ]
  },
  {
   "cell_type": "code",
   "execution_count": null,
   "id": "165886c8",
   "metadata": {},
   "outputs": [],
   "source": [
    "eco_count['district'].head(20)"
   ]
  },
  {
   "cell_type": "markdown",
   "id": "c9617e28",
   "metadata": {},
   "source": [
    "### Clean up ELIG table.\n",
    "With Child ID, Elig Category, Day Count\n",
    "Rename columns to child_id, elig_cat\n",
    "Change data to float"
   ]
  },
  {
   "cell_type": "code",
   "execution_count": null,
   "id": "67fee991",
   "metadata": {
    "scrolled": true
   },
   "outputs": [],
   "source": [
    "elig_cat1 = elig[[\"Child ID\", \"Init. Elig. Category\", 'District']]"
   ]
  },
  {
   "cell_type": "code",
   "execution_count": null,
   "id": "ef06a2ec",
   "metadata": {
    "scrolled": true
   },
   "outputs": [],
   "source": [
    "elig_cat1.columns = ['child_id', 'elig_cat', 'district']"
   ]
  },
  {
   "cell_type": "code",
   "execution_count": null,
   "id": "4ab5f734",
   "metadata": {},
   "outputs": [],
   "source": [
    "elig_cat1.info()"
   ]
  },
  {
   "cell_type": "code",
   "execution_count": null,
   "id": "92edcd8a",
   "metadata": {
    "scrolled": true
   },
   "outputs": [],
   "source": [
    "elig_cat1.head(20)"
   ]
  },
  {
   "cell_type": "code",
   "execution_count": null,
   "id": "17f648d1",
   "metadata": {},
   "outputs": [],
   "source": [
    "elig_cat1.groupby(['elig_cat'])['elig_cat'].count()"
   ]
  },
  {
   "cell_type": "code",
   "execution_count": null,
   "id": "103b6e27",
   "metadata": {},
   "outputs": [],
   "source": [
    "elig_cat1[\"child_id\"] = pd.to_numeric(elig_cat1[\"child_id\"], downcast=\"float\")"
   ]
  },
  {
   "cell_type": "code",
   "execution_count": null,
   "id": "b8cdabb3",
   "metadata": {},
   "outputs": [],
   "source": [
    "elig_cat1.info()"
   ]
  },
  {
   "cell_type": "markdown",
   "id": "b52084eb",
   "metadata": {},
   "source": [
    "### Merge the two new tables."
   ]
  },
  {
   "cell_type": "code",
   "execution_count": null,
   "id": "0daefd22",
   "metadata": {},
   "outputs": [],
   "source": [
    "eco_elig = pd.merge(eco_count, elig_cat1, how='outer',on=['child_id', 'district'])"
   ]
  },
  {
   "cell_type": "code",
   "execution_count": null,
   "id": "4d923058",
   "metadata": {},
   "outputs": [],
   "source": [
    "eco_elig.info()"
   ]
  },
  {
   "cell_type": "code",
   "execution_count": null,
   "id": "dc893ec4",
   "metadata": {},
   "outputs": [],
   "source": [
    "eco_elig.head(20)"
   ]
  },
  {
   "cell_type": "code",
   "execution_count": null,
   "id": "cef21bce",
   "metadata": {},
   "outputs": [],
   "source": [
    "eco_elig.info()"
   ]
  },
  {
   "cell_type": "code",
   "execution_count": null,
   "id": "397e0b38",
   "metadata": {},
   "outputs": [],
   "source": [
    "eco_elig = eco_elig[eco_elig['oc1'].notna()]\n"
   ]
  },
  {
   "cell_type": "code",
   "execution_count": null,
   "id": "58e629af",
   "metadata": {
    "scrolled": false
   },
   "outputs": [],
   "source": [
    "eco_elig"
   ]
  },
  {
   "cell_type": "markdown",
   "id": "8393c7e8",
   "metadata": {},
   "source": [
    "### Add column for calculation of difference of scores"
   ]
  },
  {
   "cell_type": "code",
   "execution_count": null,
   "id": "d87cf930",
   "metadata": {
    "scrolled": true
   },
   "outputs": [],
   "source": [
    "eco_elig['social_change'] = eco_elig['exit_social'] - eco_elig['ent_social']\n",
    "eco_elig['knowledge_change'] = eco_elig['exit_knowledge'] - eco_elig['ent_knowledge']\n",
    "eco_elig['app_action_change'] = eco_elig['exit_app_action'] - eco_elig['ent_app_action'] \n",
    "\n",
    "eco_elig.head(20)"
   ]
  },
  {
   "cell_type": "code",
   "execution_count": null,
   "id": "5387d3c5",
   "metadata": {},
   "outputs": [],
   "source": [
    "print(eco_elig[['ent_social', 'exit_social', 'social_change']].head(20))"
   ]
  },
  {
   "cell_type": "code",
   "execution_count": null,
   "id": "f4a831e1",
   "metadata": {},
   "outputs": [],
   "source": [
    "eco_elig.info()"
   ]
  },
  {
   "cell_type": "markdown",
   "id": "75d748a6",
   "metadata": {},
   "source": [
    "### Subset with just changes and child_id\n",
    "Start graphs on this data"
   ]
  },
  {
   "cell_type": "code",
   "execution_count": null,
   "id": "926e2f93",
   "metadata": {},
   "outputs": [],
   "source": [
    "eco_change_cat = eco_elig[['social_change', 'knowledge_change', 'app_action_change','elig_cat','district']]"
   ]
  },
  {
   "cell_type": "code",
   "execution_count": null,
   "id": "e5f0f907",
   "metadata": {},
   "outputs": [],
   "source": [
    "eco_change_cat.value_counts('elig_cat').count"
   ]
  },
  {
   "cell_type": "code",
   "execution_count": null,
   "id": "a97c78a5",
   "metadata": {},
   "outputs": [],
   "source": [
    "eco_change_cat"
   ]
  },
  {
   "cell_type": "code",
   "execution_count": null,
   "id": "7225adad",
   "metadata": {
    "scrolled": true
   },
   "outputs": [],
   "source": [
    "sum_change = eco_change_cat.groupby(['elig_cat']).sum()\n"
   ]
  },
  {
   "cell_type": "code",
   "execution_count": null,
   "id": "9d8f2ed2",
   "metadata": {},
   "outputs": [],
   "source": [
    "sum_change"
   ]
  },
  {
   "cell_type": "code",
   "execution_count": null,
   "id": "6f64d093",
   "metadata": {},
   "outputs": [],
   "source": [
    "sum_change.plot.bar(stacked = True)"
   ]
  },
  {
   "cell_type": "markdown",
   "id": "d7327527",
   "metadata": {},
   "source": [
    "### Try again with the nulls dropped"
   ]
  },
  {
   "cell_type": "code",
   "execution_count": null,
   "id": "8e4c17d0",
   "metadata": {},
   "outputs": [],
   "source": [
    "drop_change_by_cat = eco_change_cat.dropna()"
   ]
  },
  {
   "cell_type": "code",
   "execution_count": null,
   "id": "7134484c",
   "metadata": {},
   "outputs": [],
   "source": [
    "drop_change_by_cat.head(30)"
   ]
  },
  {
   "cell_type": "code",
   "execution_count": null,
   "id": "a797fe3b",
   "metadata": {
    "scrolled": true
   },
   "outputs": [],
   "source": [
    "drop_change_by_cat.info()"
   ]
  },
  {
   "cell_type": "code",
   "execution_count": null,
   "id": "87d816b5",
   "metadata": {},
   "outputs": [],
   "source": [
    "drop_change_by_cat.value_counts('elig_cat').count"
   ]
  },
  {
   "cell_type": "code",
   "execution_count": null,
   "id": "622c4287",
   "metadata": {},
   "outputs": [],
   "source": [
    "display(drop_change_by_cat)"
   ]
  },
  {
   "cell_type": "code",
   "execution_count": null,
   "id": "7056e81a",
   "metadata": {},
   "outputs": [],
   "source": [
    "drop_change_by_cat.groupby(['elig_cat']).sum()"
   ]
  },
  {
   "cell_type": "code",
   "execution_count": null,
   "id": "f4b3dfda",
   "metadata": {
    "scrolled": false
   },
   "outputs": [],
   "source": [
    "sns.barplot(data = drop_change_by_cat, x = 'social_change')"
   ]
  },
  {
   "cell_type": "code",
   "execution_count": null,
   "id": "58bd4dad",
   "metadata": {
    "scrolled": true
   },
   "outputs": [],
   "source": [
    "dcbc = drop_change_by_cat.groupby(['elig_cat'], as_index = False).mean()"
   ]
  },
  {
   "cell_type": "code",
   "execution_count": null,
   "id": "fe4393ed",
   "metadata": {},
   "outputs": [],
   "source": [
    "dcbc.info()"
   ]
  },
  {
   "cell_type": "code",
   "execution_count": null,
   "id": "846cde8f",
   "metadata": {
    "scrolled": false
   },
   "outputs": [],
   "source": [
    "display(dcbc)"
   ]
  },
  {
   "cell_type": "markdown",
   "id": "7993c39e",
   "metadata": {},
   "source": [
    "### Social Change graph"
   ]
  },
  {
   "cell_type": "code",
   "execution_count": null,
   "id": "2ffb7844",
   "metadata": {},
   "outputs": [],
   "source": [
    "sns.set_theme(style=\"ticks\")\n",
    "\n",
    "f, ax = plt.subplots(figsize=(7, 6))\n",
    "\n",
    "sns.boxplot(x=\"social_change\", y=\"elig_cat\", data=drop_change_by_cat,\n",
    "            whis=[0, 100], width=.6, palette=\"vlag\")\n",
    "\n",
    "sns.stripplot(x=\"social_change\", y=\"elig_cat\", data=drop_change_by_cat,\n",
    "              size=4, color=\".3\", linewidth=0)\n",
    "\n",
    "ax.xaxis.grid(True)\n",
    "ax.set(ylabel=\"\")\n",
    "sns.despine(trim=True, left=True)"
   ]
  },
  {
   "cell_type": "markdown",
   "id": "a84cac6c",
   "metadata": {},
   "source": [
    "### Knowledge Change Graph"
   ]
  },
  {
   "cell_type": "code",
   "execution_count": null,
   "id": "7fcaa7c4",
   "metadata": {},
   "outputs": [],
   "source": [
    "sns.set_theme(style=\"ticks\")\n",
    "\n",
    "f, ax = plt.subplots(figsize=(7, 6))\n",
    "\n",
    "sns.boxplot(x=\"knowledge_change\", y=\"elig_cat\", data=drop_change_by_cat,\n",
    "            whis=[0, 100], width=.6, palette=\"vlag\")\n",
    "\n",
    "sns.stripplot(x=\"knowledge_change\", y=\"elig_cat\", data=drop_change_by_cat,\n",
    "              size=4, color=\".3\", linewidth=0)\n",
    "\n",
    "\n",
    "ax.xaxis.grid(True)\n",
    "ax.set(ylabel=\"\")\n",
    "sns.despine(trim=True, left=True)"
   ]
  },
  {
   "cell_type": "markdown",
   "id": "238df6c1",
   "metadata": {},
   "source": [
    "### Appropriate Action Change"
   ]
  },
  {
   "cell_type": "code",
   "execution_count": null,
   "id": "b4c473d8",
   "metadata": {},
   "outputs": [],
   "source": [
    "sns.set_theme(style=\"ticks\")\n",
    "\n",
    "f, ax = plt.subplots(figsize=(7, 6))\n",
    "\n",
    "sns.boxplot(x=\"app_action_change\", y=\"elig_cat\", data=drop_change_by_cat,\n",
    "            whis=[0, 100], width=.6, palette=\"vlag\")\n",
    "\n",
    "sns.stripplot(x=\"app_action_change\", y=\"elig_cat\", data=drop_change_by_cat,\n",
    "              size=4, color=\".3\", linewidth=0)\n",
    "\n",
    "ax.xaxis.grid(True)\n",
    "ax.set(ylabel=\"\")\n",
    "sns.despine(trim=True, left=True)"
   ]
  },
  {
   "cell_type": "markdown",
   "id": "9cc10f9a",
   "metadata": {},
   "source": [
    "### Each child is associated with a Point of Entry (POE) office, as indicated in column A of the \"ECO with Exit21-22\" column. Do the above comparison by POE as well, similar to the calculations in the \"ECO by POE\" tab."
   ]
  },
  {
   "cell_type": "code",
   "execution_count": null,
   "id": "f8d70bb0",
   "metadata": {
    "scrolled": false
   },
   "outputs": [],
   "source": [
    "drop_change_by_cat.info()"
   ]
  },
  {
   "cell_type": "code",
   "execution_count": null,
   "id": "0c086d39",
   "metadata": {},
   "outputs": [],
   "source": [
    "poe1 = drop_change_by_cat[['social_change','knowledge_change', 'app_action_change', 'elig_cat']]"
   ]
  },
  {
   "cell_type": "code",
   "execution_count": null,
   "id": "8286f6a6",
   "metadata": {},
   "outputs": [],
   "source": [
    "poe = drop_change_by_cat.dropna()"
   ]
  },
  {
   "cell_type": "code",
   "execution_count": null,
   "id": "f7df02bc",
   "metadata": {},
   "outputs": [],
   "source": [
    "poe = poe[['social_change','knowledge_change', 'app_action_change', 'district']]"
   ]
  },
  {
   "cell_type": "code",
   "execution_count": null,
   "id": "afe09103",
   "metadata": {
    "scrolled": false
   },
   "outputs": [],
   "source": [
    "poe_sum = poe.groupby(['district'], as_index = False).sum()"
   ]
  },
  {
   "cell_type": "code",
   "execution_count": null,
   "id": "e276593c",
   "metadata": {},
   "outputs": [],
   "source": [
    "poe_sum.plot(kind = 'bar',figsize = (10,6))"
   ]
  },
  {
   "cell_type": "code",
   "execution_count": null,
   "id": "286265d6",
   "metadata": {},
   "outputs": [],
   "source": [
    "sns.set_theme(style=\"whitegrid\", palette=\"pastel\")\n",
    "\n",
    "#sns.color_palette(\"dark:#5A9_r\", as_cmap=True)\n",
    "\n",
    "f, ax = plt.subplots(figsize=(7, 6))\n",
    "\n",
    "sns.boxplot(x=\"app_action_change\", y=\"district\", data=poe,\n",
    "            whis=[0, 100], width=.6, palette=\"vlag\")\n",
    "\n",
    "sns.stripplot(x=\"app_action_change\", y=\"district\", data=poe,\n",
    "              size=4, color=\".3\", linewidth=0)\n",
    "\n",
    "ax.xaxis.grid(True)\n",
    "ax.set(ylabel=\"\")\n",
    "sns.despine(trim=True, left=True)"
   ]
  },
  {
   "cell_type": "markdown",
   "id": "26879245",
   "metadata": {},
   "source": [
    "# Pretty this one up.  "
   ]
  },
  {
   "cell_type": "markdown",
   "id": "09b5b720",
   "metadata": {},
   "source": [
    "Clean up, add value labels, remove bars. "
   ]
  },
  {
   "cell_type": "code",
   "execution_count": null,
   "id": "9513d7ef",
   "metadata": {},
   "outputs": [],
   "source": [
    "\n",
    "a = sns.barplot(data=poe, x='district', y='app_action_change',\\\n",
    "                order= ('FT','UC','SW','ET','NW','SE','GN','SC','MD'),ci=None)\n",
    "\n",
    "for container in a.containers:\n",
    "    a.bar_label(container)\n",
    "    \n",
    "a = plt.xlabel('District')\n",
    "a = plt.ylabel('Average Test Score Increase')\n",
    "a = plt.title('Appropriate Action Score Change')\n",
    "\n",
    "#a.bar_label(i,)\n",
    "plt.show()"
   ]
  },
  {
   "cell_type": "code",
   "execution_count": null,
   "id": "e1f6e7d3",
   "metadata": {},
   "outputs": [],
   "source": [
    "\n",
    "sns.barplot(data=poe, x='district', y='knowledge_change',\n",
    "            order= ('FT','UC','ET','NW','SE','SC','SW','GN','MD'),ci=None)\n",
    "a = plt.xlabel('District')\n",
    "a = plt.ylabel('Average Test Score Increase')\n",
    "a = plt.title('Knowledge Score Change')\n",
    "\n",
    "a.set_yticks(float(0,1.7,.2))\n",
    "a.set_yticklabels(float(0,1.7,.2))\n",
    "\n",
    "\n",
    "# a.set(yticks=np.arange(0,1.8,0.2))\n",
    "# a.set_yticklabels(np.arange(0,1.8,0.2))\n"
   ]
  },
  {
   "cell_type": "code",
   "execution_count": null,
   "id": "c3ed09fa",
   "metadata": {},
   "outputs": [],
   "source": [
    "sns.barplot(data=poe, x='district', y='social_change',\\\n",
    "            order= ('FT','ET','UC','NW','SE','GN','SC','SW','MD'),ci=None)\n",
    "a = plt.xlabel('District')\n",
    "a = plt.ylabel('Average Test Score Increase')\n",
    "a = plt.title('Social Score Change')"
   ]
  },
  {
   "cell_type": "code",
   "execution_count": null,
   "id": "7ade5ede",
   "metadata": {
    "scrolled": false
   },
   "outputs": [],
   "source": [
    "sns.barplot(data=poe1, x='elig_cat', y='app_action_change')"
   ]
  },
  {
   "cell_type": "code",
   "execution_count": null,
   "id": "ea5fce0a",
   "metadata": {},
   "outputs": [],
   "source": [
    "sns.barplot(data=poe1, x='elig_cat', y='social_change')"
   ]
  },
  {
   "cell_type": "code",
   "execution_count": null,
   "id": "9fd7cb6d",
   "metadata": {
    "scrolled": false
   },
   "outputs": [],
   "source": [
    "poe1.head()"
   ]
  },
  {
   "cell_type": "code",
   "execution_count": null,
   "id": "361572f0",
   "metadata": {
    "scrolled": false
   },
   "outputs": [],
   "source": [
    "elig1avg = poe1[['social_change', 'app_action_change', 'knowledge_change']].sum()\n",
    "elig1avg.plot(kind=\"bar\", title='Developmental Evaluation')\n"
   ]
  },
  {
   "cell_type": "code",
   "execution_count": null,
   "id": "0eff31b9",
   "metadata": {
    "scrolled": true
   },
   "outputs": [],
   "source": [
    "elig1avg = poe1[['knowledge_change']].mean()\n",
    "elig1avg.plot(kind=\"bar\")"
   ]
  },
  {
   "cell_type": "code",
   "execution_count": null,
   "id": "a7e10cbd",
   "metadata": {},
   "outputs": [],
   "source": [
    "eco_elig.info()"
   ]
  },
  {
   "cell_type": "code",
   "execution_count": null,
   "id": "0a90db9a",
   "metadata": {},
   "outputs": [],
   "source": [
    "plt.figure(figsize=(100,100))\n",
    "\n",
    "g = sns.FacetGrid(eco_count, col = 'district', height =4)\n",
    "g.map(sns.lineplot,'month_count', 'ent_social', marker='o')\n",
    "g.axes[0,0].set_xlabel('month_count')\n",
    "g.axes[0,1].set_xlabel('month_count')\n",
    "g.axes[0,2].set_xlabel('month_count')\n",
    "\n",
    "# Average point increase for test scores based on elig cat\n",
    "g = g.map(lambda y, **kw: plt.axhline(y.mean(), color=\"k\"), 'social_change')\n"
   ]
  }
 ],
 "metadata": {
  "kernelspec": {
   "display_name": "Python 3 (ipykernel)",
   "language": "python",
   "name": "python3"
  },
  "language_info": {
   "codemirror_mode": {
    "name": "ipython",
    "version": 3
   },
   "file_extension": ".py",
   "mimetype": "text/x-python",
   "name": "python",
   "nbconvert_exporter": "python",
   "pygments_lexer": "ipython3",
   "version": "3.9.7"
  }
 },
 "nbformat": 4,
 "nbformat_minor": 5
}
