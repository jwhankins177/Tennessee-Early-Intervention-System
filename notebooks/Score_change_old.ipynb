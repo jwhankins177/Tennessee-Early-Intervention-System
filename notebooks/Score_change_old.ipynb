{
 "cells": [
  {
   "cell_type": "markdown",
   "id": "d2a7dfdc",
   "metadata": {},
   "source": [
    "# Difference in OC scores based off of eligibility category"
   ]
  },
  {
   "cell_type": "code",
   "execution_count": null,
   "id": "eeea64ff",
   "metadata": {},
   "outputs": [],
   "source": [
    "import pandas as pd\n",
    "import numpy as np\n",
    "import matplotlib.pyplot as plt\n",
    "import seaborn as sns\n",
    "%matplotlib inline"
   ]
  },
  {
   "cell_type": "code",
   "execution_count": null,
   "id": "1f18cea8",
   "metadata": {
    "scrolled": true
   },
   "outputs": [],
   "source": [
    "eco = pd.read_excel(\"../data/TEIS-NSS Project Data 10-2022.xlsx\",sheet_name=('ECO with Exit21-22'))\n",
    "elig = pd.read_excel(\"../data/TEIS-NSS Project Data 10-2022.xlsx\",sheet_name=('Elig Timeline Rpt 2018-2022'))"
   ]
  },
  {
   "cell_type": "markdown",
   "id": "e29e58f6",
   "metadata": {},
   "source": [
    "### Eco clean"
   ]
  },
  {
   "cell_type": "code",
   "execution_count": null,
   "id": "6b01c9b1",
   "metadata": {},
   "outputs": [],
   "source": [
    "eco.info()"
   ]
  },
  {
   "cell_type": "code",
   "execution_count": null,
   "id": "69fb801c",
   "metadata": {
    "scrolled": false
   },
   "outputs": [],
   "source": [
    "eco1 = eco[['CHILD_ID', 'OC1 - a','OC1 - b', 'OC1 - c', 'OC1 - d', 'OC1 - e',\\\n",
    "        'OC3 - a','OC3 - b', 'OC3 - c', 'OC3 - d', 'OC3 - e']]\n",
    "eco1.info()"
   ]
  },
  {
   "cell_type": "code",
   "execution_count": null,
   "id": "f33e4a81",
   "metadata": {},
   "outputs": [],
   "source": [
    "eco1['OC1 - a'].isnull().count()"
   ]
  },
  {
   "cell_type": "code",
   "execution_count": null,
   "id": "9683094a",
   "metadata": {
    "scrolled": true
   },
   "outputs": [],
   "source": [
    "eco1"
   ]
  },
  {
   "cell_type": "code",
   "execution_count": null,
   "id": "a6183154",
   "metadata": {},
   "outputs": [],
   "source": [
    "eco['oc1a_score'] = eco['OC1 - a'].count()\n",
    "eco['oc1a_avg'] = eco['OC1 - a'].count()/eco['CHILD_ID'].count()\n",
    "eco['oc1b_score'] = eco['OC1 - b'].count()\n",
    "eco['oc1c_score'] = eco['OC1 - c'].count()\n",
    "eco['oc1d_score'] = eco['OC1 - d'].count()\n",
    "eco['oc1e_score'] = eco['OC1 - e'].count()\n",
    "\n",
    "eco['oc3a_score'] = eco['OC3 - a'].count()\n",
    "eco['oc3b_score'] = eco['OC3 - b'].count()\n",
    "eco['oc3c_score'] = eco['OC3 - c'].count()\n",
    "eco['oc3d_score'] = eco['OC3 - d'].count()\n",
    "eco['oc3e_score'] = eco['OC3 - e'].count()"
   ]
  },
  {
   "cell_type": "code",
   "execution_count": null,
   "id": "d11943cc",
   "metadata": {
    "scrolled": false
   },
   "outputs": [],
   "source": [
    "eco_calc = eco[['CHILD_ID','oc1a_score','oc1a_avg','oc1b_score','oc1c_score','oc1d_score','oc1e_score','oc3a_score','oc3b_score','oc3c_score','oc3d_score','oc3e_score']]\n",
    "eco_calc.info()\n",
    "eco_calc.head()"
   ]
  },
  {
   "cell_type": "code",
   "execution_count": null,
   "id": "85f53310",
   "metadata": {},
   "outputs": [],
   "source": []
  }
 ],
 "metadata": {
  "kernelspec": {
   "display_name": "Python 3 (ipykernel)",
   "language": "python",
   "name": "python3"
  },
  "language_info": {
   "codemirror_mode": {
    "name": "ipython",
    "version": 3
   },
   "file_extension": ".py",
   "mimetype": "text/x-python",
   "name": "python",
   "nbconvert_exporter": "python",
   "pygments_lexer": "ipython3",
   "version": "3.9.7"
  }
 },
 "nbformat": 4,
 "nbformat_minor": 5
}
